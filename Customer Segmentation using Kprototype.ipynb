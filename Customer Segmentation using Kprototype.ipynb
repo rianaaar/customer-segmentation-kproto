{
 "cells": [
  {
   "cell_type": "markdown",
   "metadata": {},
   "source": [
    "You are owing a supermarket mall and through membership cards , you have some basic data about your customers like Customer ID, age, gender, annual income and spending score. Spending Score is something you assign to the customer based on your defined parameters like customer behavior and purchasing data"
   ]
  },
  {
   "cell_type": "code",
   "execution_count": 1,
   "metadata": {},
   "outputs": [],
   "source": [
    "import pandas as pd  \n",
    "import matplotlib.pyplot as plt  \n",
    "import seaborn as sns  \n",
    "from sklearn.preprocessing import LabelEncoder  \n",
    "  \n",
    "from kmodes.kmodes import KModes  \n",
    "from kmodes.kprototypes import KPrototypes  \n",
    "  \n",
    "import pickle  \n",
    "from pathlib import Path  "
   ]
  },
  {
   "cell_type": "code",
   "execution_count": 2,
   "metadata": {},
   "outputs": [
    {
     "name": "stdout",
     "output_type": "stream",
     "text": [
      "   CustomerID   Genre  Age  Annual Income (k$)  Spending Score (1-100)\n",
      "0           1    Male   19                  15                      39\n",
      "1           2    Male   21                  15                      81\n",
      "2           3  Female   20                  16                       6\n",
      "3           4  Female   23                  16                      77\n",
      "4           5  Female   31                  17                      40\n"
     ]
    }
   ],
   "source": [
    "# import dataset  \n",
    "df = pd.read_csv(\"Mall_Customers.csv\", sep=\",\")  \n",
    "  \n",
    "# menampilkan data  \n",
    "print (df.head())"
   ]
  },
  {
   "cell_type": "code",
   "execution_count": 3,
   "metadata": {},
   "outputs": [
    {
     "name": "stdout",
     "output_type": "stream",
     "text": [
      "<class 'pandas.core.frame.DataFrame'>\n",
      "RangeIndex: 200 entries, 0 to 199\n",
      "Data columns (total 5 columns):\n",
      " #   Column                  Non-Null Count  Dtype \n",
      "---  ------                  --------------  ----- \n",
      " 0   CustomerID              200 non-null    int64 \n",
      " 1   Genre                   200 non-null    object\n",
      " 2   Age                     200 non-null    int64 \n",
      " 3   Annual Income (k$)      200 non-null    int64 \n",
      " 4   Spending Score (1-100)  200 non-null    int64 \n",
      "dtypes: int64(4), object(1)\n",
      "memory usage: 7.9+ KB\n"
     ]
    }
   ],
   "source": [
    "# Menampilkan informasi data  \n",
    "df.info() "
   ]
  },
  {
   "cell_type": "markdown",
   "metadata": {},
   "source": [
    "#### Eksplorasi data"
   ]
  },
  {
   "cell_type": "code",
   "execution_count": 4,
   "metadata": {},
   "outputs": [
    {
     "data": {
      "text/html": [
       "<div>\n",
       "<style scoped>\n",
       "    .dataframe tbody tr th:only-of-type {\n",
       "        vertical-align: middle;\n",
       "    }\n",
       "\n",
       "    .dataframe tbody tr th {\n",
       "        vertical-align: top;\n",
       "    }\n",
       "\n",
       "    .dataframe thead th {\n",
       "        text-align: right;\n",
       "    }\n",
       "</style>\n",
       "<table border=\"1\" class=\"dataframe\">\n",
       "  <thead>\n",
       "    <tr style=\"text-align: right;\">\n",
       "      <th></th>\n",
       "      <th>CustomerID</th>\n",
       "      <th>Age</th>\n",
       "      <th>Annual Income (k$)</th>\n",
       "      <th>Spending Score (1-100)</th>\n",
       "    </tr>\n",
       "  </thead>\n",
       "  <tbody>\n",
       "    <tr>\n",
       "      <th>count</th>\n",
       "      <td>200.000000</td>\n",
       "      <td>200.000000</td>\n",
       "      <td>200.000000</td>\n",
       "      <td>200.000000</td>\n",
       "    </tr>\n",
       "    <tr>\n",
       "      <th>mean</th>\n",
       "      <td>100.500000</td>\n",
       "      <td>38.850000</td>\n",
       "      <td>60.560000</td>\n",
       "      <td>50.200000</td>\n",
       "    </tr>\n",
       "    <tr>\n",
       "      <th>std</th>\n",
       "      <td>57.879185</td>\n",
       "      <td>13.969007</td>\n",
       "      <td>26.264721</td>\n",
       "      <td>25.823522</td>\n",
       "    </tr>\n",
       "    <tr>\n",
       "      <th>min</th>\n",
       "      <td>1.000000</td>\n",
       "      <td>18.000000</td>\n",
       "      <td>15.000000</td>\n",
       "      <td>1.000000</td>\n",
       "    </tr>\n",
       "    <tr>\n",
       "      <th>25%</th>\n",
       "      <td>50.750000</td>\n",
       "      <td>28.750000</td>\n",
       "      <td>41.500000</td>\n",
       "      <td>34.750000</td>\n",
       "    </tr>\n",
       "    <tr>\n",
       "      <th>50%</th>\n",
       "      <td>100.500000</td>\n",
       "      <td>36.000000</td>\n",
       "      <td>61.500000</td>\n",
       "      <td>50.000000</td>\n",
       "    </tr>\n",
       "    <tr>\n",
       "      <th>75%</th>\n",
       "      <td>150.250000</td>\n",
       "      <td>49.000000</td>\n",
       "      <td>78.000000</td>\n",
       "      <td>73.000000</td>\n",
       "    </tr>\n",
       "    <tr>\n",
       "      <th>max</th>\n",
       "      <td>200.000000</td>\n",
       "      <td>70.000000</td>\n",
       "      <td>137.000000</td>\n",
       "      <td>99.000000</td>\n",
       "    </tr>\n",
       "  </tbody>\n",
       "</table>\n",
       "</div>"
      ],
      "text/plain": [
       "       CustomerID         Age  Annual Income (k$)  Spending Score (1-100)\n",
       "count  200.000000  200.000000          200.000000              200.000000\n",
       "mean   100.500000   38.850000           60.560000               50.200000\n",
       "std     57.879185   13.969007           26.264721               25.823522\n",
       "min      1.000000   18.000000           15.000000                1.000000\n",
       "25%     50.750000   28.750000           41.500000               34.750000\n",
       "50%    100.500000   36.000000           61.500000               50.000000\n",
       "75%    150.250000   49.000000           78.000000               73.000000\n",
       "max    200.000000   70.000000          137.000000               99.000000"
      ]
     },
     "execution_count": 4,
     "metadata": {},
     "output_type": "execute_result"
    }
   ],
   "source": [
    "df.describe()"
   ]
  },
  {
   "cell_type": "code",
   "execution_count": 5,
   "metadata": {},
   "outputs": [
    {
     "data": {
      "text/plain": [
       "Female    112\n",
       "Male       88\n",
       "Name: Genre, dtype: int64"
      ]
     },
     "execution_count": 5,
     "metadata": {},
     "output_type": "execute_result"
    }
   ],
   "source": [
    "df['Genre'].value_counts()"
   ]
  },
  {
   "cell_type": "code",
   "execution_count": 6,
   "metadata": {},
   "outputs": [
    {
     "name": "stdout",
     "output_type": "stream",
     "text": [
      "  adjustable: {'box', 'datalim'}\n",
      "  agg_filter: a filter function, which takes a (m, n, 3) float array and a dpi value, and returns a (m, n, 3) array\n",
      "  alpha: float\n",
      "  anchor: 2-tuple of floats or {'C', 'SW', 'S', 'SE', ...}\n",
      "  animated: bool\n",
      "  aspect: {'auto', 'equal'} or num\n",
      "  autoscale_on: bool\n",
      "  autoscalex_on: bool\n",
      "  autoscaley_on: bool\n",
      "  axes_locator: Callable[[Axes, Renderer], Bbox]\n",
      "  axisbelow: bool or 'line'\n",
      "  clip_box: `.Bbox`\n",
      "  clip_on: bool\n",
      "  clip_path: [(`~matplotlib.path.Path`, `.Transform`) | `.Patch` | None]\n",
      "  contains: callable\n",
      "  facecolor: color\n",
      "  fc: color\n",
      "  figure: `.Figure`\n",
      "  frame_on: bool\n",
      "  gid: str\n",
      "  in_layout: bool\n",
      "  label: object\n",
      "  navigate: bool\n",
      "  navigate_mode: unknown\n",
      "  path_effects: `.AbstractPathEffect`\n",
      "  picker: None or bool or float or callable\n",
      "  position: [left, bottom, width, height] or `~matplotlib.transforms.Bbox`\n",
      "  rasterization_zorder: float or None\n",
      "  rasterized: bool or None\n",
      "  sketch_params: (scale: float, length: float, randomness: float)\n",
      "  snap: bool or None\n",
      "  subplotspec: unknown\n",
      "  title: str\n",
      "  transform: `.Transform`\n",
      "  url: str\n",
      "  visible: bool\n",
      "  xbound: unknown\n",
      "  xlabel: str\n",
      "  xlim: (left: float, right: float)\n",
      "  xmargin: float greater than -0.5\n",
      "  xscale: {\"linear\", \"log\", \"symlog\", \"logit\", ...}\n",
      "  xticklabels: List[str]\n",
      "  xticks: list\n",
      "  ybound: unknown\n",
      "  ylabel: str\n",
      "  ylim: (bottom: float, top: float)\n",
      "  ymargin: float greater than -0.5\n",
      "  yscale: {\"linear\", \"log\", \"symlog\", \"logit\", ...}\n",
      "  yticklabels: List[str]\n",
      "  yticks: list\n",
      "  zorder: float\n"
     ]
    },
    {
     "data": {
      "text/plain": [
       "<Figure size 432x288 with 0 Axes>"
      ]
     },
     "metadata": {},
     "output_type": "display_data"
    },
    {
     "data": {
      "image/png": "[encoded data removed]",
      "text/plain": [
       "<Figure size 720x648 with 6 Axes>"
      ]
     },
     "metadata": {},
     "output_type": "display_data"
    }
   ],
   "source": [
    "sns.set(style='white')\n",
    "plt.clf()\n",
    "  \n",
    "# Fungsi untuk membuat plot  \n",
    "def observasi_num(features):  \n",
    "    fig, axs = plt.subplots(3, 2, figsize=(10, 9))\n",
    "    for i, kol in enumerate(features):\n",
    "        sns.boxplot(df[kol], ax = axs[i][0])\n",
    "        sns.distplot(df[kol], ax = axs[i][1])   \n",
    "        axs[i][0].set_title('mean = %.2f\\n median = %.2f\\n std = %.2f'%(df[kol].mean(), df[kol].median(), df[kol].std()))\n",
    "    plt.setp(axs)\n",
    "    plt.tight_layout()\n",
    "    plt.show()  \n",
    "  \n",
    "# Memanggil fungsi untuk membuat Plot untuk data numerik  \n",
    "kolom_numerik = ['Age','Annual Income (k$)','Spending Score (1-100)'] \n",
    "observasi_num(kolom_numerik) "
   ]
  },
  {
   "cell_type": "code",
   "execution_count": 7,
   "metadata": {},
   "outputs": [
    {
     "name": "stdout",
     "output_type": "stream",
     "text": [
      "  adjustable: {'box', 'datalim'}\n",
      "  agg_filter: a filter function, which takes a (m, n, 3) float array and a dpi value, and returns a (m, n, 3) array\n",
      "  alpha: float\n",
      "  anchor: 2-tuple of floats or {'C', 'SW', 'S', 'SE', ...}\n",
      "  animated: bool\n",
      "  aspect: {'auto', 'equal'} or num\n",
      "  autoscale_on: bool\n",
      "  autoscalex_on: bool\n",
      "  autoscaley_on: bool\n",
      "  axes_locator: Callable[[Axes, Renderer], Bbox]\n",
      "  axisbelow: bool or 'line'\n",
      "  clip_box: `.Bbox`\n",
      "  clip_on: bool\n",
      "  clip_path: [(`~matplotlib.path.Path`, `.Transform`) | `.Patch` | None]\n",
      "  contains: callable\n",
      "  facecolor: color\n",
      "  fc: color\n",
      "  figure: `.Figure`\n",
      "  frame_on: bool\n",
      "  gid: str\n",
      "  in_layout: bool\n",
      "  label: object\n",
      "  navigate: bool\n",
      "  navigate_mode: unknown\n",
      "  path_effects: `.AbstractPathEffect`\n",
      "  picker: None or bool or float or callable\n",
      "  position: [left, bottom, width, height] or `~matplotlib.transforms.Bbox`\n",
      "  rasterization_zorder: float or None\n",
      "  rasterized: bool or None\n",
      "  sketch_params: (scale: float, length: float, randomness: float)\n",
      "  snap: bool or None\n",
      "  subplotspec: unknown\n",
      "  title: str\n",
      "  transform: `.Transform`\n",
      "  url: str\n",
      "  visible: bool\n",
      "  xbound: unknown\n",
      "  xlabel: str\n",
      "  xlim: (left: float, right: float)\n",
      "  xmargin: float greater than -0.5\n",
      "  xscale: {\"linear\", \"log\", \"symlog\", \"logit\", ...}\n",
      "  xticklabels: List[str]\n",
      "  xticks: list\n",
      "  ybound: unknown\n",
      "  ylabel: str\n",
      "  ylim: (bottom: float, top: float)\n",
      "  ymargin: float greater than -0.5\n",
      "  yscale: {\"linear\", \"log\", \"symlog\", \"logit\", ...}\n",
      "  yticklabels: List[str]\n",
      "  yticks: list\n",
      "  zorder: float\n"
     ]
    },
    {
     "data": {
      "text/plain": [
       "<Figure size 432x288 with 0 Axes>"
      ]
     },
     "metadata": {},
     "output_type": "display_data"
    },
    {
     "data": {
      "image/png": "[encoded data removed]",
      "text/plain": [
       "<Figure size 432x288 with 1 Axes>"
      ]
     },
     "metadata": {},
     "output_type": "display_data"
    }
   ],
   "source": [
    "sns.set(style='white')\n",
    "plt.clf()\n",
    "  \n",
    "# Menyiapkan kolom kategorikal  \n",
    "kolom_kategorikal = ['Genre']  \n",
    "\n",
    "# Membuat canvas\n",
    "fig, axs = plt.subplots(1) \n",
    "\n",
    "# Membuat plot untuk setiap kolom kategorikal  \n",
    "for i, kol in enumerate(kolom_kategorikal):  \n",
    "    # Membuat Plot\n",
    "    sns.countplot(df[kol], order = df[kol].value_counts().index, ax = axs)  \n",
    "    axs.set_title('\\nCount Plot %s\\n'%(kol), fontsize=15)  \n",
    "      \n",
    "    # Memberikan anotasi  \n",
    "    for p in axs.patches:  \n",
    "        axs.annotate(format(p.get_height(), '.0f'),  \n",
    "                        (p.get_x() + p.get_width() / 2., p.get_height()),  \n",
    "                        ha = 'center',  \n",
    "                        va = 'center',  \n",
    "                        xytext = (0, 10),  \n",
    "                        textcoords = 'offset points') \n",
    "          \n",
    "    # Setting Plot  \n",
    "    sns.despine(right=True,top = True, left = True)  \n",
    "    axs.axes.yaxis.set_visible(False) \n",
    "    plt.setp(axs)\n",
    "    plt.tight_layout()\n",
    "plt.show()"
   ]
  },
  {
   "cell_type": "code",
   "execution_count": 8,
   "metadata": {},
   "outputs": [
    {
     "name": "stdout",
     "output_type": "stream",
     "text": [
      "Statistik Sebelum Standardisasi\n",
      "\n",
      "         Age  Annual Income (k$)  Spending Score (1-100)\n",
      "count  200.0               200.0                   200.0\n",
      "mean    38.8                60.6                    50.2\n",
      "std     14.0                26.3                    25.8\n",
      "min     18.0                15.0                     1.0\n",
      "25%     28.8                41.5                    34.8\n",
      "50%     36.0                61.5                    50.0\n",
      "75%     49.0                78.0                    73.0\n",
      "max     70.0               137.0                    99.0\n",
      "Contoh hasil standardisasi\n",
      "\n",
      "        Age  Annual Income (k$)  Spending Score (1-100)\n",
      "0 -1.424569           -1.738999               -0.434801\n",
      "1 -1.281035           -1.738999                1.195704\n",
      "2 -1.352802           -1.700830               -1.715913\n",
      "3 -1.137502           -1.700830                1.040418\n",
      "4 -0.563369           -1.662660               -0.395980\n",
      "Statistik hasil standardisasi\n",
      "\n",
      "         Age  Annual Income (k$)  Spending Score (1-100)\n",
      "count  200.0               200.0                   200.0\n",
      "mean    -0.0                -0.0                    -0.0\n",
      "std      1.0                 1.0                     1.0\n",
      "min     -1.0                -2.0                    -2.0\n",
      "25%     -1.0                -1.0                    -1.0\n",
      "50%     -0.0                 0.0                    -0.0\n",
      "75%      1.0                 1.0                     1.0\n",
      "max      2.0                 3.0                     2.0\n"
     ]
    }
   ],
   "source": [
    "from sklearn.preprocessing import StandardScaler  \n",
    "# Statistik sebelum Standardisasi  \n",
    "print('Statistik Sebelum Standardisasi\\n')  \n",
    "print(df[kolom_numerik].describe().round(1))  \n",
    "  \n",
    "# Standardisasi  \n",
    "df_std = StandardScaler().fit_transform(df[kolom_numerik])  \n",
    "  \n",
    "# Membuat DataFrame  \n",
    "df_std = pd.DataFrame(data=df_std, index=df.index, columns=df[kolom_numerik].columns)  \n",
    "  \n",
    "# Menampilkan contoh isi data dan summary statistic  \n",
    "print('Contoh hasil standardisasi\\n')  \n",
    "print(df_std.head())  \n",
    "  \n",
    "print('Statistik hasil standardisasi\\n')  \n",
    "print(df_std.describe().round(0))  "
   ]
  },
  {
   "cell_type": "code",
   "execution_count": 9,
   "metadata": {},
   "outputs": [
    {
     "name": "stdout",
     "output_type": "stream",
     "text": [
      "   Genre\n",
      "0      1\n",
      "1      1\n",
      "2      0\n",
      "3      0\n",
      "4      0\n"
     ]
    }
   ],
   "source": [
    "from sklearn.preprocessing import LabelEncoder\n",
    "\n",
    "# Membuat salinan data frame  \n",
    "df_encode = df[kolom_kategorikal].copy()  \n",
    "\n",
    "# Melakukan labelEncoder untuk semua kolom kategorikal  \n",
    "for col in kolom_kategorikal:  \n",
    "    df_encode[col]= LabelEncoder().fit_transform(df_encode[col])\n",
    "      \n",
    "# Menampilkan data  \n",
    "print(df_encode.head())"
   ]
  },
  {
   "cell_type": "code",
   "execution_count": 10,
   "metadata": {},
   "outputs": [
    {
     "name": "stdout",
     "output_type": "stream",
     "text": [
      "   Genre       Age  Annual Income (k$)  Spending Score (1-100)\n",
      "0      1 -1.424569           -1.738999               -0.434801\n",
      "1      1 -1.281035           -1.738999                1.195704\n",
      "2      0 -1.352802           -1.700830               -1.715913\n",
      "3      0 -1.137502           -1.700830                1.040418\n",
      "4      0 -0.563369           -1.662660               -0.395980\n"
     ]
    }
   ],
   "source": [
    "# Menggabungkan data frame\n",
    "df_model= df_encode.merge(df_std, left_index = True, right_index=True, how= 'left')  \n",
    "print (df_model.head())"
   ]
  },
  {
   "cell_type": "markdown",
   "metadata": {},
   "source": [
    "#### Mencari jumlah cluster yang optimal"
   ]
  },
  {
   "cell_type": "code",
   "execution_count": 11,
   "metadata": {},
   "outputs": [
    {
     "data": {
      "image/png": "[encoded data removed]",
      "text/plain": [
       "<Figure size 432x288 with 1 Axes>"
      ]
     },
     "metadata": {},
     "output_type": "display_data"
    }
   ],
   "source": [
    "from kmodes.kmodes import KModes  \n",
    "from kmodes.kprototypes import KPrototypes  \n",
    "\n",
    "# Melakukan Iterasi untuk Mendapatkan nilai Cost  \n",
    "cost = {}  \n",
    "for k in range(1,10):  \n",
    "    kproto = KPrototypes(n_clusters = k,random_state=75)  \n",
    "    kproto.fit_predict(df_model, categorical=[0])  \n",
    "    cost[k]= kproto.cost_  \n",
    "  \n",
    "# Memvisualisasikan Elbow Plot  \n",
    "sns.pointplot(x=list(cost.keys()), y=list(cost.values()))  \n",
    "plt.show()"
   ]
  },
  {
   "cell_type": "code",
   "execution_count": 12,
   "metadata": {},
   "outputs": [],
   "source": [
    "import pickle   \n",
    "  \n",
    "kproto = KPrototypes ( n_clusters = 4,random_state=75)  \n",
    "kproto = kproto.fit(df_model, categorical=[0,1,2])  \n",
    "  \n",
    "#Save Model  \n",
    "pickle.dump(kproto, open('cluster.pkl', 'wb'))  "
   ]
  },
  {
   "cell_type": "code",
   "execution_count": 13,
   "metadata": {},
   "outputs": [
    {
     "name": "stdout",
     "output_type": "stream",
     "text": [
      "segmen pelanggan: [1 0 1 0 0 0 1 0 0 0 2 0 0 0 1 0 0 0 0 0 0 0 0 2 0 2 0 2 0 0 0 0 0 2 0 0 0\n",
      " 0 0 0 0 2 2 0 0 0 0 0 0 0 0 2 0 2 0 2 0 2 0 2 2 0 2 2 2 0 0 2 0 0 2 0 2 2\n",
      " 2 2 0 2 0 0 2 2 2 0 0 2 2 0 0 0 3 0 2 0 0 2 0 0 2 0 0 0 3 2 2 0 3 2 2 2 2\n",
      " 0 0 0 0 0 2 2 2 2 2 0 0 2 0 2 2 3 2 2 2 2 0 0 1 2 0 2 1 2 0 2 0 2 0 2 2 2\n",
      " 0 2 2 3 0 2 0 2 0 2 0 2 2 2 1 3 2 2 2 3 0 2 2 2 2 3 0 3 2 2 2 3 0 3 2 3 2\n",
      " 3 2 2 0 3 0 3 2 3 2 3 3 3 2 3]\n",
      "\n",
      "   CustomerID   Genre  Age  Annual Income (k$)  Spending Score (1-100)  \\\n",
      "0           1    Male   19                  15                      39   \n",
      "1           2    Male   21                  15                      81   \n",
      "2           3  Female   20                  16                       6   \n",
      "3           4  Female   23                  16                      77   \n",
      "4           5  Female   31                  17                      40   \n",
      "\n",
      "   cluster  \n",
      "0        1  \n",
      "1        0  \n",
      "2        1  \n",
      "3        0  \n",
      "4        0  \n"
     ]
    }
   ],
   "source": [
    "# Menentukan segmen tiap pelanggan    \n",
    "clusters = kproto.predict(df_model, categorical=[0])    \n",
    "print('segmen pelanggan: {}\\n'.format(clusters))    \n",
    "    \n",
    "# Menggabungkan data awal dan segmen pelanggan    \n",
    "df_final = df.copy()    \n",
    "df_final['cluster'] = clusters\n",
    "print(df_final.head())  "
   ]
  },
  {
   "cell_type": "code",
   "execution_count": 15,
   "metadata": {},
   "outputs": [
    {
     "name": "stdout",
     "output_type": "stream",
     "text": [
      "\n",
      "Pelanggan cluster: 0\n",
      "\n",
      "       CustomerID        Age  Annual Income (k$)  Spending Score (1-100)  \\\n",
      "count   91.000000  91.000000           91.000000               91.000000   \n",
      "mean    73.956044  34.879121           48.626374               44.406593   \n",
      "std     51.055071  12.464915           21.876242               23.420778   \n",
      "min      2.000000  18.000000           15.000000                1.000000   \n",
      "25%     31.500000  23.000000           30.000000               29.000000   \n",
      "50%     66.000000  34.000000           48.000000               45.000000   \n",
      "75%    112.500000  45.500000           63.500000               57.500000   \n",
      "max    191.000000  65.000000          103.000000               99.000000   \n",
      "\n",
      "       cluster  \n",
      "count     91.0  \n",
      "mean       0.0  \n",
      "std        0.0  \n",
      "min        0.0  \n",
      "25%        0.0  \n",
      "50%        0.0  \n",
      "75%        0.0  \n",
      "max        0.0  \n",
      "Female    73\n",
      "Male      18\n",
      "Name: Genre, dtype: int64\n",
      "\n",
      "Pelanggan cluster: 1\n",
      "\n",
      "       CustomerID        Age  Annual Income (k$)  Spending Score (1-100)  \\\n",
      "count    7.000000   7.000000            7.000000                7.000000   \n",
      "mean    66.142857  24.142857           42.428571               12.000000   \n",
      "std     75.027614   8.132826           31.542866               12.274635   \n",
      "min      1.000000  19.000000           15.000000                5.000000   \n",
      "25%      5.000000  19.000000           17.000000                5.500000   \n",
      "50%     15.000000  20.000000           20.000000                6.000000   \n",
      "75%    137.000000  27.500000           73.500000               11.500000   \n",
      "max    163.000000  37.000000           81.000000               39.000000   \n",
      "\n",
      "       cluster  \n",
      "count      7.0  \n",
      "mean       1.0  \n",
      "std        0.0  \n",
      "min        1.0  \n",
      "25%        1.0  \n",
      "50%        1.0  \n",
      "75%        1.0  \n",
      "max        1.0  \n",
      "Male      5\n",
      "Female    2\n",
      "Name: Genre, dtype: int64\n",
      "\n",
      "Pelanggan cluster: 2\n",
      "\n",
      "       CustomerID        Age  Annual Income (k$)  Spending Score (1-100)  \\\n",
      "count   82.000000  82.000000           82.000000               82.000000   \n",
      "mean   116.402439  44.426829           67.073171               52.829268   \n",
      "std     48.650393  14.018533           21.373677               23.704354   \n",
      "min     11.000000  18.000000           19.000000                8.000000   \n",
      "25%     75.250000  32.000000           54.000000               41.000000   \n",
      "50%    120.500000  43.000000           67.000000               53.000000   \n",
      "75%    157.500000  55.750000           78.000000               73.000000   \n",
      "max    199.000000  70.000000          137.000000               97.000000   \n",
      "\n",
      "       cluster  \n",
      "count     82.0  \n",
      "mean       2.0  \n",
      "std        0.0  \n",
      "min        2.0  \n",
      "25%        2.0  \n",
      "50%        2.0  \n",
      "75%        2.0  \n",
      "max        2.0  \n",
      "Male      57\n",
      "Female    25\n",
      "Name: Genre, dtype: int64\n",
      "\n",
      "Pelanggan cluster: 3\n",
      "\n",
      "       CustomerID        Age  Annual Income (k$)  Spending Score (1-100)  \\\n",
      "count   20.000000  20.000000           20.000000               20.000000   \n",
      "mean   168.100000  39.200000           94.500000               79.150000   \n",
      "std     34.067889  12.630789           22.307657               18.238984   \n",
      "min     91.000000  29.000000           59.000000               28.000000   \n",
      "25%    161.000000  31.750000           80.250000               72.750000   \n",
      "50%    181.000000  35.000000           95.000000               86.000000   \n",
      "75%    192.500000  39.250000          105.500000               91.250000   \n",
      "max    200.000000  68.000000          137.000000               97.000000   \n",
      "\n",
      "       cluster  \n",
      "count     20.0  \n",
      "mean       3.0  \n",
      "std        0.0  \n",
      "min        3.0  \n",
      "25%        3.0  \n",
      "50%        3.0  \n",
      "75%        3.0  \n",
      "max        3.0  \n",
      "Female    12\n",
      "Male       8\n",
      "Name: Genre, dtype: int64\n"
     ]
    }
   ],
   "source": [
    "# Menampilkan data pelanggan berdasarkan cluster nya  \n",
    "for i in range (0,4):  \n",
    "    print('\\nPelanggan cluster: {}\\n'.format(i))  \n",
    "    print(df_final[df_final['cluster']== i].describe())\n",
    "    print(df_final[df_final['cluster']== i]['Genre'].value_counts())"
   ]
  },
  {
   "cell_type": "markdown",
   "metadata": {},
   "source": [
    "#### Visualisasi Hasil Clustering - Box Plot"
   ]
  },
  {
   "cell_type": "code",
   "execution_count": 16,
   "metadata": {},
   "outputs": [
    {
     "data": {
      "image/png": "[encoded data removed]",
      "text/plain": [
       "<Figure size 432x288 with 1 Axes>"
      ]
     },
     "metadata": {},
     "output_type": "display_data"
    },
    {
     "data": {
      "image/png": "[encoded data removed]",
      "text/plain": [
       "<Figure size 432x288 with 1 Axes>"
      ]
     },
     "metadata": {},
     "output_type": "display_data"
    },
    {
     "data": {
      "image/png": "[encoded data removed]",
      "text/plain": [
       "<Figure size 432x288 with 1 Axes>"
      ]
     },
     "metadata": {},
     "output_type": "display_data"
    }
   ],
   "source": [
    "for i in kolom_numerik:  \n",
    "    plt.figure(figsize=(6,4))  \n",
    "    ax = sns.boxplot(x = 'cluster',y = i, data = df_final)  \n",
    "    plt.title ('\\nBox Plot {}\\n'.format(i), fontsize=12)  \n",
    "    plt.show() "
   ]
  },
  {
   "cell_type": "code",
   "execution_count": 17,
   "metadata": {},
   "outputs": [
    {
     "data": {
      "image/png": "[encoded data removed]",
      "text/plain": [
       "<Figure size 432x288 with 1 Axes>"
      ]
     },
     "metadata": {},
     "output_type": "display_data"
    }
   ],
   "source": [
    "for i in kolom_kategorikal:  \n",
    "    plt.figure(figsize=(6,4))  \n",
    "    ax = sns.countplot(data = df_final, x = 'cluster', hue = i )  \n",
    "    ax.set_title('\\nCount Plot {}\\n'.format(i), fontsize=12)  \n",
    "    ax. legend (loc=\"upper center\")  \n",
    "    for p in ax.patches:  \n",
    "        ax.annotate(format(p.get_height(), '.0f'),  \n",
    "                    (p.get_x() + p.get_width() / 2., p.get_height()),  \n",
    "                     ha = 'center',  \n",
    "                     va = 'center',  \n",
    "                     xytext = (0, 10),  \n",
    "                     textcoords = 'offset points')  \n",
    "      \n",
    "    sns.despine(right=True,top = True, left = True)  \n",
    "    ax.axes.yaxis.set_visible(False)  \n",
    "    plt.show()  "
   ]
  },
  {
   "cell_type": "markdown",
   "metadata": {},
   "source": [
    "#### Menamakan Cluster\n",
    "\n",
    "Dari hasil observasi yang dilakukan dapat memberikan nama segmen dari tiap tiap nomor kluster nya. Yaitu:\n",
    "\n",
    "Cluster 0: Silver Member, isi cluster ini adalah pelanggan wanita dan pria usia muda hingga dewasa yaitu 18-65 tahun yang memiliki pendapatan rata-rata $48k dan rata-rata spending score 44.\n",
    "\n",
    "Cluster 1: Classic Member, isi cluster ini adalah pelanggan wanita dan pria usia muda yaitu 19-37 tahun yang memiliki pendapatan rata-rata $42k dan rata-rata spending score 12.\n",
    "\n",
    "Cluster 2: Gold Member, isi cluster ini adalah pelanggan wanita dan pria usia muda hingga dewasa yaitu 18-70 tahun yang memiliki pendapatan rata-rata $67k dan rata-rata spending score 53.\n",
    "\n",
    "Cluster 3: Platinum Member, isi cluster ini adalah pelanggan wanita dan pria dewasa dengan usia yaitu 29-68 tahun yang memiliki pendapatan rata-rata $91k dan rata-rata spending score 79."
   ]
  },
  {
   "cell_type": "code",
   "execution_count": 18,
   "metadata": {},
   "outputs": [
    {
     "name": "stdout",
     "output_type": "stream",
     "text": [
      "<class 'pandas.core.frame.DataFrame'>\n",
      "RangeIndex: 200 entries, 0 to 199\n",
      "Data columns (total 7 columns):\n",
      " #   Column                  Non-Null Count  Dtype \n",
      "---  ------                  --------------  ----- \n",
      " 0   CustomerID              200 non-null    int64 \n",
      " 1   Genre                   200 non-null    object\n",
      " 2   Age                     200 non-null    int64 \n",
      " 3   Annual Income (k$)      200 non-null    int64 \n",
      " 4   Spending Score (1-100)  200 non-null    int64 \n",
      " 5   cluster                 200 non-null    uint16\n",
      " 6   segmen                  200 non-null    object\n",
      "dtypes: int64(4), object(2), uint16(1)\n",
      "memory usage: 9.9+ KB\n",
      "None\n",
      "   CustomerID   Genre  Age  Annual Income (k$)  Spending Score (1-100)  \\\n",
      "0           1    Male   19                  15                      39   \n",
      "1           2    Male   21                  15                      81   \n",
      "2           3  Female   20                  16                       6   \n",
      "3           4  Female   23                  16                      77   \n",
      "4           5  Female   31                  17                      40   \n",
      "5           6  Female   22                  17                      76   \n",
      "6           7  Female   35                  18                       6   \n",
      "7           8  Female   23                  18                      94   \n",
      "8           9    Male   64                  19                       3   \n",
      "9          10  Female   30                  19                      72   \n",
      "\n",
      "   cluster          segmen  \n",
      "0        1  Classic Member  \n",
      "1        0   Silver Member  \n",
      "2        1  Classic Member  \n",
      "3        0   Silver Member  \n",
      "4        0   Silver Member  \n",
      "5        0   Silver Member  \n",
      "6        1  Classic Member  \n",
      "7        0   Silver Member  \n",
      "8        0   Silver Member  \n",
      "9        0   Silver Member  \n"
     ]
    }
   ],
   "source": [
    "# Mapping nama kolom  \n",
    "df_final['segmen'] = df_final['cluster'].map({  \n",
    "    0: 'Silver Member',  \n",
    "    1: 'Classic Member',  \n",
    "    2: 'Gold Member',  \n",
    "    3: 'Platinum Member'\n",
    "})  \n",
    "\n",
    "print(df_final.info())\n",
    "print(df_final.head(10))  "
   ]
  },
  {
   "cell_type": "markdown",
   "metadata": {},
   "source": [
    "Customer segmen yang dihasilkan dapat membantu tim marketing untuk  membuat strategi pemasaran yang lebih tepat dan juga efisien bagi tiap-tiap pelanggan.\n",
    "\n",
    "Penentuan jumlah cluster yang optimal juga perlu mepertimbangkan masukan dari tim yang akan menggunakan model nya. Sehingga bisa menghasilkan cluster yang sesuai dengan kebutuhan mereka dan juga bagaimana cara mereka akan memperlakukan segmen-segmen ini.\n",
    "\n",
    "Tantangan lainnya adalah jumlah data yang jauh lebih banyak di banding dengan data set yang kamu gunakan untuk latihan ini. Sehingga waktu pemrosesan datanya dan pembuatan model nya akan menjadi lebih lama."
   ]
  }
 ],
 "metadata": {
  "kernelspec": {
   "display_name": "Python 3",
   "language": "python",
   "name": "python3"
  },
  "language_info": {
   "codemirror_mode": {
    "name": "ipython",
    "version": 3
   },
   "file_extension": ".py",
   "mimetype": "text/x-python",
   "name": "python",
   "nbconvert_exporter": "python",
   "pygments_lexer": "ipython3",
   "version": "3.7.6"
  }
 },
 "nbformat": 4,
 "nbformat_minor": 4
}
